{
 "cells": [
  {
   "cell_type": "markdown",
   "metadata": {},
   "source": [
    "This notebook scrapes the Alma and Primo release notes in the Ex Libris Knowledge Center and creates a CSV file with headings for each item. Recommend reviewing the results for comprehensiveness."
   ]
  },
  {
   "cell_type": "code",
   "execution_count": 2,
   "metadata": {},
   "outputs": [],
   "source": [
    "import csv\n",
    "import requests\n",
    "from bs4 import BeautifulSoup"
   ]
  },
  {
   "cell_type": "code",
   "execution_count": 3,
   "metadata": {},
   "outputs": [],
   "source": [
    "def get_headings(url, year, month):\n",
    "    \"\"\"Scrapes headings of items in release notes URL.\n",
    "    url param is page for target month's release notes\n",
    "    \"\"\"\n",
    "    r = requests.get(url)\n",
    "    soup = BeautifulSoup(r.text)\n",
    "    headings = soup.find_all(\"h3\")\n",
    "    items = []\n",
    "    \n",
    "    # class used in current month's sections, e.g. 201812BASE\n",
    "    # also found in the release notes URL\n",
    "    datekey = str(year) + str(month) + 'BASE'\n",
    "    \n",
    "    # get the major items\n",
    "    for heading in headings:\n",
    "        for parent in heading.find_parents(\"div\"):\n",
    "            if datekey in parent.attrs[\"class\"]:\n",
    "                items.append(heading.get_text())\n",
    "    \n",
    "    # get additional enhancements\n",
    "    enhancements = []\n",
    "    small_items = soup.find_all(\"li\", class_=datekey)\n",
    "\n",
    "    # get text from all the elements in each enhancement li tag\n",
    "    for small in small_items:\n",
    "        pieces = []\n",
    "        #get the text parts (siblings)\n",
    "        siblings = small.find(\"br\").next_siblings\n",
    "        for sibling in siblings:\n",
    "            #if the part is a string, strip the whitespace and newlines and add to pieces\n",
    "            if sibling.string:\n",
    "                piece = sibling.string.replace(\"\\n\", \"\").strip()\n",
    "                pieces.append(piece)\n",
    "        enhancements.append(\" \".join(pieces))\n",
    "    #add the enhancements to the major items, with a divider header\n",
    "    items.append(\"RESOLVED ISSUES\")\n",
    "    items.extend(enhancements)\n",
    "    \n",
    "    return items\n",
    "\n",
    "\n",
    "def make_csv(filename, rows):\n",
    "    \"\"\"Creates a CSV file with columns for actions. \"\"\"\n",
    "    with open(filename, 'w', newline='') as f:\n",
    "        writer = csv.writer(f, delimiter=',', quoting=csv.QUOTE_ALL)\n",
    "        header = ['Heading','Reviewer(s)','Relevant to GW?','Needs discussion?', 'Notes']\n",
    "        writer.writerow(header)\n",
    "        for row in rows:\n",
    "            writer.writerow([row])"
   ]
  },
  {
   "cell_type": "markdown",
   "metadata": {},
   "source": [
    "alma_url is the URL for the month's release notes. Update the parameters in the call to get_headings() for the current year and month. "
   ]
  },
  {
   "cell_type": "code",
   "execution_count": 3,
   "metadata": {},
   "outputs": [],
   "source": [
    "alma_url = \"https://knowledge.exlibrisgroup.com/Alma/Release_Notes/010_2018/001Alma_2018_Release_Notes?mon=201812BASE\"\n",
    "alma_results = get_headings(alma_url, 2018, 12)"
   ]
  },
  {
   "cell_type": "code",
   "execution_count": 4,
   "metadata": {},
   "outputs": [],
   "source": [
    "filename = \"alma-201812.csv\"\n",
    "make_csv(filename, alma_results)"
   ]
  },
  {
   "cell_type": "markdown",
   "metadata": {},
   "source": [
    "primo_url is the URL for the month's release notes. Update the parameters in the call to get_headings() for the current year and month. "
   ]
  },
  {
   "cell_type": "code",
   "execution_count": 4,
   "metadata": {},
   "outputs": [],
   "source": [
    "primo_url = \"https://knowledge.exlibrisgroup.com/Primo/Release_Notes/002Primo_VE/0972019/002Primo_VE_2019_Release_Notes?mon=201901BASE\"\n",
    "primo_results = get_headings(primo_url, 2019, \"01\")"
   ]
  },
  {
   "cell_type": "code",
   "execution_count": 6,
   "metadata": {},
   "outputs": [],
   "source": [
    "primo_filename = \"primo-201901.csv\"\n",
    "make_csv(primo_filename, primo_results)"
   ]
  },
  {
   "cell_type": "markdown",
   "metadata": {},
   "source": [
    "Import the resulting CSV files into Google Sheets and add a link to the websites for getting further information. \n"
   ]
  }
 ],
 "metadata": {
  "kernelspec": {
   "display_name": "Python 3",
   "language": "python",
   "name": "python3"
  },
  "language_info": {
   "codemirror_mode": {
    "name": "ipython",
    "version": 3
   },
   "file_extension": ".py",
   "mimetype": "text/x-python",
   "name": "python",
   "nbconvert_exporter": "python",
   "pygments_lexer": "ipython3",
   "version": "3.6.6"
  }
 },
 "nbformat": 4,
 "nbformat_minor": 2
}
